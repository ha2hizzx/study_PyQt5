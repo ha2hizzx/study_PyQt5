{
 "cells": [
  {
   "attachments": {},
   "cell_type": "markdown",
   "id": "02fa5d5f",
   "metadata": {},
   "source": [
    "# 창에 어플리케이션 아이콘 넣기"
   ]
  },
  {
   "cell_type": "code",
   "execution_count": 1,
   "id": "fe4822c4",
   "metadata": {},
   "outputs": [
    {
     "ename": "SystemExit",
     "evalue": "0",
     "output_type": "error",
     "traceback": [
      "An exception has occurred, use %tb to see the full traceback.\n",
      "\u001b[1;31mSystemExit\u001b[0m\u001b[1;31m:\u001b[0m 0\n"
     ]
    },
    {
     "name": "stderr",
     "output_type": "stream",
     "text": [
      "c:\\Users\\skwwkaehenr\\anaconda3\\lib\\site-packages\\IPython\\core\\interactiveshell.py:3468: UserWarning: To exit: use 'exit', 'quit', or Ctrl-D.\n",
      "  warn(\"To exit: use 'exit', 'quit', or Ctrl-D.\", stacklevel=1)\n"
     ]
    }
   ],
   "source": [
    "import sys\n",
    "from PyQt5.QtWidgets import QApplication, QWidget\n",
    "from PyQt5.QtGui import QIcon\n",
    "\n",
    "class MyApp(QWidget):\n",
    "    \n",
    "    def __init__(self):\n",
    "        super().__init__()\n",
    "        self.initUI()\n",
    "        \n",
    "    def initUI(self):\n",
    "        self.setWindowTitle('Application Icon')\n",
    "        self.setWindowIcon(QIcon('web.png'))\n",
    "        self.setGeometry(300, 300, 300, 200)\n",
    "        self.show()\n",
    "        \n",
    "        \n",
    "if __name__ =='__main__':\n",
    "    app = QApplication(sys.argv)\n",
    "    ex = MyApp()\n",
    "    sys.exit(app.exec_())"
   ]
  },
  {
   "attachments": {},
   "cell_type": "markdown",
   "id": "564e5fc1",
   "metadata": {},
   "source": [
    "창을 띄우면서, 타이플바 왼쪽에 아이콘이 나타남\n",
    "<br><br><br><br><br>"
   ]
  },
  {
   "attachments": {},
   "cell_type": "markdown",
   "id": "5d9175da",
   "metadata": {},
   "source": [
    "## __`self.setWindowIcon(QIcon('web.png'))`__"
   ]
  },
  {
   "attachments": {},
   "cell_type": "markdown",
   "id": "6601914d",
   "metadata": {},
   "source": [
    "\n",
    "setWindowIcon()메서드는 어플리케이션 아이콘을 설정하도록 함\n",
    "이를 위해 QIcon객체를 생성함 QIcon()에 보여질 이미지('wep.png')를 입력\n",
    "주의 : \"이미지 파일을 다른 폴더에 저장한 경우 경로까지 함께 입력해야한다.\"\n",
    "\n",
    "<br><br>"
   ]
  },
  {
   "attachments": {},
   "cell_type": "markdown",
   "id": "5c340867",
   "metadata": {},
   "source": [
    "## __`self.setGeometry(300, 300, 300, 200)`__"
   ]
  },
  {
   "attachments": {},
   "cell_type": "markdown",
   "id": "676c92a6",
   "metadata": {},
   "source": [
    "창의 위치와 크기를 정한다.\n",
    "앞의 두매개변수는 x,y위치를 결정하고 뒤의 두 매개변수는 각 창의 너비와 높이를 결정한다."
   ]
  }
 ],
 "metadata": {
  "kernelspec": {
   "display_name": "Python 3 (ipykernel)",
   "language": "python",
   "name": "python3"
  },
  "language_info": {
   "codemirror_mode": {
    "name": "ipython",
    "version": 3
   },
   "file_extension": ".py",
   "mimetype": "text/x-python",
   "name": "python",
   "nbconvert_exporter": "python",
   "pygments_lexer": "ipython3",
   "version": "3.10.9"
  }
 },
 "nbformat": 4,
 "nbformat_minor": 5
}
