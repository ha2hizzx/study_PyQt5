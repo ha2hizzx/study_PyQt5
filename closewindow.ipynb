{
 "cells": [
  {
   "cell_type": "code",
   "execution_count": null,
   "id": "f8a81956",
   "metadata": {},
   "outputs": [],
   "source": [
    "import sys\n",
    "from PyQt5.QtWidgets import QApplication, QWidget, QPushButton\n",
    "from PyQt5.QtCore import QCoreApplication\n",
    "class MyApp(QWidget):\n",
    "  def __init__(self):\n",
    "      super().__init__()\n",
    "      self.initUI()\n",
    "\n",
    "  def initUI(self):\n",
    "      btn = QPushButton('Quit', self)\n",
    "      btn.move(50, 50)\n",
    "      btn.resize(btn.sizeHint())\n",
    "      btn.clicked.connect(QCoreApplication.instance().quit)\n",
    "\n",
    "      self.setWindowTitle('Quit Button')\n",
    "      self.setGeometry(300, 300, 300, 200)\n",
    "      self.show()\n",
    "\n",
    "if __name__ == '__main__':\n",
    "    app = QApplication(sys.argv)\n",
    "    ex = MyApp()\n",
    "    sys.exit(app.exec_())"
   ]
  },
  {
   "cell_type": "markdown",
   "id": "6563e6b0",
   "metadata": {},
   "source": [
    "클릭하면 어플리케이션이 종료되는 'Quit'버튼을 만들었다."
   ]
  },
  {
   "cell_type": "markdown",
   "id": "9e1ed7d8",
   "metadata": {},
   "source": [
    "<hr>\n",
    "<br><br><br><br><br>\n",
    "\n",
    "`from PyQt5.QtCore import QcoreApplication`\n",
    "\n",
    "QtCore 모듈의 QcoreApplication 클래스를 불러온다."
   ]
  },
  {
   "cell_type": "markdown",
   "id": "08850496",
   "metadata": {},
   "source": [
    "<hr>\n",
    "<br><br>\n",
    "\n",
    "`btn.clicked.connect(QCoreApplication.instance().quit)`\n",
    "\n",
    "PyQt5에서의 이벤트 처리는 시그널과 슬롯 메커니즘으로 이루어진다.\n",
    "버튼(btn)을 클릭하면'clicked' 시그널이 만들어집니다.\n",
    "instance() 메서드는 현재 일스턴스르 반환합니다.\n",
    "'clicked' 시그널은 어플리케이션을 종료하는 quit()메서드에 연결됩니다.\n",
    "발신자(Sender)와 수신자(Receiver), 두 객체 간에 커뮤니케이션이 이루어집니다.\n",
    "여기서 발신자는 푸시버튼(btn)이고, 수신자는 어플리케이션 객체 (app)이다."
   ]
  }
 ],
 "metadata": {
  "kernelspec": {
   "display_name": "Python 3 (ipykernel)",
   "language": "python",
   "name": "python3"
  },
  "language_info": {
   "codemirror_mode": {
    "name": "ipython",
    "version": 3
   },
   "file_extension": ".py",
   "mimetype": "text/x-python",
   "name": "python",
   "nbconvert_exporter": "python",
   "pygments_lexer": "ipython3",
   "version": "3.10.9"
  }
 },
 "nbformat": 4,
 "nbformat_minor": 5
}
