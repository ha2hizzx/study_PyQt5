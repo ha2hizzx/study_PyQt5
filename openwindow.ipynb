{
 "cells": [
  {
   "attachments": {},
   "cell_type": "markdown",
   "id": "dbb0313b",
   "metadata": {},
   "source": [
    "# 창 띄우기\n",
    "\n",
    "<hr>"
   ]
  },
  {
   "cell_type": "code",
   "execution_count": 1,
   "id": "dd569cdf",
   "metadata": {},
   "outputs": [],
   "source": [
    "import sys\n",
    "from PyQt5.QtWidgets import QApplication, QWidget\n",
    "class MyApp (QWidget):\n",
    "    def __init__(self):\n",
    "        super().__init__()\n",
    "        self.initUI()\n",
    "    \n",
    "    \n",
    "    def initUI(self):\n",
    "        self.setWindowTitle('Application')\n",
    "        self.move(300, 300)\n",
    "        self.resize(400, 200)\n",
    "        self.show()\n",
    "        \n",
    "\n",
    "        \n",
    "if __name__ == '__main__':\n",
    "    app = QApplication(sys.argv)\n",
    "    ex = MyApp()\n",
    "    app.exec_()"
   ]
  },
  {
   "attachments": {},
   "cell_type": "markdown",
   "id": "05a0b257",
   "metadata": {},
   "source": [
    "코드 실행시 '(400, 200)'크기의 스크린이 '(300, 300)'위치에 띄워짐"
   ]
  },
  {
   "attachments": {},
   "cell_type": "markdown",
   "id": "41aa78b7",
   "metadata": {},
   "source": [
    "<br><br><br>\n",
    "\n",
    "# 코드 설명\n",
    "\n",
    "<hr>"
   ]
  },
  {
   "cell_type": "code",
   "execution_count": 4,
   "id": "fed87073",
   "metadata": {},
   "outputs": [],
   "source": [
    "import sys\n",
    "from PyQt5.QtWidgets import QApplication, QWidget"
   ]
  },
  {
   "attachments": {},
   "cell_type": "markdown",
   "id": "e3c58827",
   "metadata": {},
   "source": [
    "필요한 모듈들을 불러온다 PyQt5.QtWidgets 모듈에 기본 UI 구성요소를 제공하는 클래스들이 포함되어 있다."
   ]
  },
  {
   "cell_type": "code",
   "execution_count": null,
   "id": "d63ba780",
   "metadata": {},
   "outputs": [],
   "source": [
    "self.setWindowTitle('Application')\n",
    "self.move(300, 300)\n",
    "self.resize(400, 200)\n",
    "self.show()"
   ]
  },
  {
   "attachments": {},
   "cell_type": "markdown",
   "id": "50a5d4d9",
   "metadata": {},
   "source": [
    "-메서드 설명-\n",
    "self : MyApp 객채\n",
    "setWindowTitle() : 타이틀바에 나타나는 창의 제목을 설정한다.\n",
    "move() : 위젯을 스크린의 x=300px, y=300px의 위치로 이동시킨다.\n",
    "resize() : 위젯의 크기를 너비 400px, 높이 200px로 지정한다.\n",
    "show() : 위젯을 스크린에 보여준다(띄운다)."
   ]
  },
  {
   "cell_type": "code",
   "execution_count": null,
   "id": "ea95d706",
   "metadata": {},
   "outputs": [],
   "source": [
    "if __name__ == '__main__':"
   ]
  },
  {
   "attachments": {},
   "cell_type": "markdown",
   "id": "3a1e5c19",
   "metadata": {},
   "source": [
    "`'__name__'` : 현재 모듈의 이름이 저장되는 내장 변수이다.\n",
    "'moduleA.py'라는 코드를 import해서 전체 코드를 수행시 `'__name__'`은 'moduleA'가 된다.\n",
    "만약 직접 질행시 `__name__`은 `__main__`이 된다. 따라서 이 한 줄의 코드를 통해 프로그램이 직접 실행되는지 혹은 모듈을 통해 실행되는지를 확인할수 있다."
   ]
  },
  {
   "cell_type": "code",
   "execution_count": null,
   "id": "7e63b00b",
   "metadata": {},
   "outputs": [],
   "source": [
    "app = QApplication(sys.argv)"
   ]
  },
  {
   "attachments": {},
   "cell_type": "markdown",
   "id": "597c1270",
   "metadata": {},
   "source": [
    "모든 PyQt5 어플리케이션은 어플리케이션 객체를 생성해야 한다."
   ]
  }
 ],
 "metadata": {
  "kernelspec": {
   "display_name": "Python 3 (ipykernel)",
   "language": "python",
   "name": "python3"
  },
  "language_info": {
   "codemirror_mode": {
    "name": "ipython",
    "version": 3
   },
   "file_extension": ".py",
   "mimetype": "text/x-python",
   "name": "python",
   "nbconvert_exporter": "python",
   "pygments_lexer": "ipython3",
   "version": "3.10.9"
  }
 },
 "nbformat": 4,
 "nbformat_minor": 5
}
